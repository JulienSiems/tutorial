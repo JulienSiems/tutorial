{
 "cells": [
  {
   "cell_type": "markdown",
   "metadata": {},
   "source": [
    "# Introduction to TensorFlow: Model saving and restoring\n",
    "(Code is tailored for TF0.12 testing both type of serialization V1/V2). Thre\n",
    "\n",
    "#### Note: \n",
    "The way serialization is carried out in TF is via *checkpoint files* (usually .ckpt). The way this is done has changed quite a lot from version to version. Most chnages were mainly adding to the previous functionality and increase scope. This was true till version 0.12(the latest) when they changed their way of doing this \n",
    "more drastically and unfortunately not compatible with previous of Tensorflow.\n",
    "\n",
    "Prior to r0.12, the saver would produce *two* files:\n",
    "```\n",
    "name_of_ckpt.ckpt\n",
    "name_of_ckpt.ckpt.meta\n",
    "```\n",
    "And a checkpoint file << checkpoint >> (one per folder of ckpt files). You would explicilty save and restore << name_of_ckpt.ckpt >>. See screenshot below (for the models saved in this tutorial)\n",
    "\n",
    "![Image](screenshot_ckpts.png)\n",
    "\n",
    "From r0.12, we would get, by default, *three* similar files:\n",
    "```\n",
    "name_of_ckpt.ckpt.data00000-of-00001\n",
    "name_of_ckpt.ckpt.meta\n",
    "name_of_ckpt.ckpt.index\n",
    "```    \n",
    "\n",
    "#### Revert to old version\n",
    "If you are using r0.12, use: \n",
    "```\n",
    "saver = tf.train.Saver(write_version = tf.train.SaverDef.V1)\n",
    "```\n",
    "to revert to the previous way of serializing.\n",
    "\n",
    "\n",
    "#### More info:\n",
    "For more information and (more advanced) functionality, check out saving and restoring documentation:\n",
    "[r0.12](https://www.tensorflow.org/api_docs/python/state_ops/saving_and_restoring_variables)\n",
    "[<r0.12](https://www.tensorflow.org/versions/r0.11/how_tos/variables/#saving_and_restoring)"
   ]
  },
  {
   "cell_type": "code",
   "execution_count": 1,
   "metadata": {
    "collapsed": true
   },
   "outputs": [],
   "source": [
    "# for compatibility \n",
    "from __future__ import absolute_import\n",
    "from __future__ import division\n",
    "from __future__ import print_function"
   ]
  },
  {
   "cell_type": "code",
   "execution_count": 2,
   "metadata": {
    "collapsed": true
   },
   "outputs": [],
   "source": [
    "# import tensorflow\n",
    "import tensorflow as tf"
   ]
  },
  {
   "cell_type": "code",
   "execution_count": 3,
   "metadata": {
    "collapsed": false
   },
   "outputs": [],
   "source": [
    "# let create some variables\n",
    "A = tf.Variable(tf.random_normal([ 3, 3]), name=\"A\")\n",
    "b = tf.Variable(tf.random_normal([ 3, 1]), name=\"b\")\n",
    "prod = tf.matmul(A,b)\n",
    "\n",
    "# update value of b\n",
    "norm = tf.sqrt(tf.reduce_sum(tf.square(prod), 0))\n",
    "update_op = b.assign(prod/norm)"
   ]
  },
  {
   "cell_type": "code",
   "execution_count": 4,
   "metadata": {
    "collapsed": false
   },
   "outputs": [
    {
     "name": "stdout",
     "output_type": "stream",
     "text": [
      "WARNING:tensorflow:From <ipython-input-4-59de8d9040c7>:2 in <module>.: initialize_all_variables (from tensorflow.python.ops.variables) is deprecated and will be removed after 2017-03-02.\n",
      "Instructions for updating:\n",
      "Use `tf.global_variables_initializer` instead.\n"
     ]
    }
   ],
   "source": [
    "# init operation\n",
    "init_op = tf.initialize_all_variables()"
   ]
  },
  {
   "cell_type": "markdown",
   "metadata": {},
   "source": [
    "## Saving a model\n",
    "Now, we create a Saver with *tf.train.Saver()* to manage all variables in the model (default)."
   ]
  },
  {
   "cell_type": "code",
   "execution_count": 5,
   "metadata": {
    "collapsed": true
   },
   "outputs": [],
   "source": [
    "saver = tf.train.Saver(write_version = tf.train.SaverDef.V1)"
   ]
  },
  {
   "cell_type": "markdown",
   "metadata": {},
   "source": [
    "We launch a session, where will update the value of vector b and will save the session current state at the end."
   ]
  },
  {
   "cell_type": "code",
   "execution_count": 6,
   "metadata": {
    "collapsed": true
   },
   "outputs": [],
   "source": [
    "name_of_checkpoint = \"model.ckpt\""
   ]
  },
  {
   "cell_type": "code",
   "execution_count": 7,
   "metadata": {
    "collapsed": false
   },
   "outputs": [
    {
     "name": "stdout",
     "output_type": "stream",
     "text": [
      "Initial values:\n",
      "[[ 0.9529801   1.48376667 -0.01687622]\n",
      " [-0.25386065  0.50722086  1.14792073]\n",
      " [ 0.44833818 -1.62193358 -1.55676198]]\n",
      "[[-0.57289195]\n",
      " [-1.19852042]\n",
      " [-1.7338351 ]]\n",
      "\n",
      " Starting updating\n",
      "[[-0.41541019 -0.44396669  0.79393202]]\n",
      "[[-0.71038347  0.52655113 -0.46701089]]\n",
      "[[ 0.23975793 -0.18952386 -0.9521538 ]]\n",
      "[[-0.01613209 -0.55011559  0.83493274]]\n",
      "[[-0.72667694  0.58730137 -0.35639536]]\n",
      "[[ 0.24644065  0.09762061 -0.96422887]]\n",
      "[[ 0.21096809 -0.5966692   0.77425987]]\n",
      "[[-0.7843774   0.59906703 -0.16084413]]\n",
      "[[ 0.12769912  0.28212428 -0.95084107]]\n",
      "[[ 0.35633397 -0.62819582  0.69166183]]\n",
      "[[-0.8350063   0.53191441  0.14082462]]\n",
      "[[-0.00557988  0.40412402 -0.91468722]]\n",
      "[[ 0.47181052 -0.65275753  0.59270769]]\n",
      "[[-0.7856524   0.34092158  0.51625836]]\n",
      "[[-0.12714957  0.48771983 -0.86369115]]\n",
      "[[ 0.57948017 -0.66843218  0.46626297]]\n",
      "[[-0.58516878  0.0641924   0.80836672]]\n",
      "[[-0.23519224  0.54792672 -0.80278319]]\n",
      "[[ 0.68687892 -0.66577989  0.29143527]]\n",
      "[[-0.33512041 -0.17590873  0.92560816]]\n",
      "\n",
      " Saving model to: model.ckpt\n",
      "WARNING:tensorflow:*******************************************************\n",
      "WARNING:tensorflow:TensorFlow's V1 checkpoint format has been deprecated.\n",
      "WARNING:tensorflow:Consider switching to the more efficient V2 format:\n",
      "WARNING:tensorflow:   `tf.train.Saver(write_version=tf.train.SaverDef.V2)`\n",
      "WARNING:tensorflow:now on by default.\n",
      "WARNING:tensorflow:*******************************************************\n"
     ]
    }
   ],
   "source": [
    "with tf.Session() as sess:\n",
    "    sess.run(init_op)\n",
    "    \n",
    "    print(\"Initial values:\")\n",
    "    print(sess.run(A))\n",
    "    print(sess.run(b))\n",
    "    \n",
    "    print(\"\\n Starting updating\")\n",
    "    for _ in range(20):\n",
    "        sess.run(update_op)\n",
    "        print(sess.run(b).T)\n",
    "        \n",
    "    print(\"\\n Saving model to: \" + name_of_checkpoint)\n",
    "    saver.save(sess,name_of_checkpoint)"
   ]
  },
  {
   "cell_type": "markdown",
   "metadata": {},
   "source": [
    "## Restoring a model\n",
    "Can create a similar Saver, or even re-use the one above. I will create a new one."
   ]
  },
  {
   "cell_type": "code",
   "execution_count": 8,
   "metadata": {
    "collapsed": false
   },
   "outputs": [],
   "source": [
    "saver2restore = tf.train.Saver(write_version = tf.train.SaverDef.V1)"
   ]
  },
  {
   "cell_type": "markdown",
   "metadata": {},
   "source": [
    "Launch a session to restore and check the values. These should match the ones at the end of the session above"
   ]
  },
  {
   "cell_type": "code",
   "execution_count": 9,
   "metadata": {
    "collapsed": false
   },
   "outputs": [
    {
     "name": "stdout",
     "output_type": "stream",
     "text": [
      "Restored values:\n",
      "[[ 0.9529801   1.48376667 -0.01687622]\n",
      " [-0.25386065  0.50722086  1.14792073]\n",
      " [ 0.44833818 -1.62193358 -1.55676198]]\n",
      "[[-0.33512041]\n",
      " [-0.17590873]\n",
      " [ 0.92560816]]\n"
     ]
    }
   ],
   "source": [
    "with tf.Session() as sess:\n",
    "    sess.run(init_op)\n",
    "    saver2restore = tf.train.import_meta_graph('./model.ckpt.meta')\n",
    "    saver2restore.restore(sess, \"./model.ckpt\")\n",
    "    \n",
    "    print(\"Restored values:\")\n",
    "    print(sess.run(A))\n",
    "    print(sess.run(b))"
   ]
  },
  {
   "cell_type": "markdown",
   "metadata": {},
   "source": [
    "## Saving only certain variables/parameters rather then the whole session\n",
    "This is useful, when computational graph is quite complex/large but we are interested only in some of the values -- like results of some computations. In this case, we specify when creating the Saver which variable(s) we are interested in. \n",
    "\n",
    "For instance in the example above, we might only be interested in the value of the computed eigenvector b."
   ]
  },
  {
   "cell_type": "code",
   "execution_count": 10,
   "metadata": {
    "collapsed": true
   },
   "outputs": [],
   "source": [
    "saver = tf.train.Saver({\"eigenv\": b})\n",
    "name_of_checkpoint = 'b.ckpt'"
   ]
  },
  {
   "cell_type": "code",
   "execution_count": 11,
   "metadata": {
    "collapsed": false
   },
   "outputs": [
    {
     "name": "stdout",
     "output_type": "stream",
     "text": [
      "Initial values:\n",
      "[[ 0.85051274 -0.51891923  0.07480607]\n",
      " [-1.61924207  1.61457515 -1.32667363]\n",
      " [-0.33239198  1.09465504  0.72454154]]\n",
      "[[ 0.25885484]\n",
      " [-0.20075834]\n",
      " [-1.38225555]]\n",
      "\n",
      " Starting updating\n",
      "[[ 0.12869745  0.63523656 -0.76151913]]\n",
      "[[-0.14971237  0.98722804  0.05447058]]\n",
      "[[-0.28756171  0.79819232  0.52933669]]\n",
      "[[-0.33978847  0.57737672  0.74241483]]\n",
      "[[-0.36125296  0.33713183  0.86938965]]\n",
      "[[-0.34923303 -0.02018894  0.93681836]]\n",
      "[[-0.20203304 -0.66260403  0.72120631]]\n",
      "[[ 0.13138554 -0.9881897  -0.07886076]]\n",
      "[[ 0.28585932 -0.78721231 -0.54642588]]\n",
      "[[ 0.34032196 -0.56221187 -0.75372332]]\n",
      "[[ 0.36123201 -0.31583396 -0.87735987]]\n",
      "[[ 0.34487039  0.05877826 -0.93680817]]\n",
      "[[ 0.17773108  0.7186389  -0.67228693]]\n",
      "[[-0.15101933  0.97947478  0.13350028]]\n",
      "[[-0.29228345  0.76897275  0.5685519 ]]\n",
      "[[-0.34291837  0.5443669   0.76555318]]\n",
      "[[-0.36175501  0.29294074  0.8850531 ]]\n",
      "[[-0.34001252 -0.0997468   0.93511611]]\n",
      "[[-0.15183166 -0.77159655  0.61772645]]\n",
      "[[ 0.16893971 -0.96821588 -0.1844382 ]]\n",
      "\n",
      " Saving model to: b.ckpt\n"
     ]
    }
   ],
   "source": [
    "with tf.Session() as sess:\n",
    "    sess.run(init_op)\n",
    "    \n",
    "    print(\"Initial values:\")\n",
    "    print(sess.run(A))\n",
    "    print(sess.run(b))\n",
    "    \n",
    "    print(\"\\n Starting updating\")\n",
    "    for _ in range(20):\n",
    "        sess.run(update_op)\n",
    "        print(sess.run(b).T)\n",
    "        \n",
    "    print(\"\\n Saving model to: \" + name_of_checkpoint)\n",
    "    saver.save(sess, name_of_checkpoint)"
   ]
  },
  {
   "cell_type": "markdown",
   "metadata": {},
   "source": [
    "## Restoring b\n",
    "Please note that b gets restored correctly, while A - since it was not saved - will be re-intialize to a random value."
   ]
  },
  {
   "cell_type": "code",
   "execution_count": 12,
   "metadata": {
    "collapsed": false
   },
   "outputs": [
    {
     "name": "stdout",
     "output_type": "stream",
     "text": [
      "Restored values:\n",
      "[[ 0.87538993  1.65076697 -1.51639628]\n",
      " [ 0.98606044  0.90760809  0.36939907]\n",
      " [ 0.727386    0.0607335  -0.24780449]]\n",
      "[[ 0.16893971]\n",
      " [-0.96821588]\n",
      " [-0.1844382 ]]\n"
     ]
    }
   ],
   "source": [
    "with tf.Session() as sess:\n",
    "    sess.run(init_op)\n",
    "    saver.restore(sess, './'+name_of_checkpoint)\n",
    "    \n",
    "    print(\"Restored values:\")\n",
    "    print(sess.run(A))\n",
    "    print(sess.run(b))"
   ]
  }
 ],
 "metadata": {
  "kernelspec": {
   "display_name": "Python 2",
   "language": "python",
   "name": "python2"
  },
  "language_info": {
   "codemirror_mode": {
    "name": "ipython",
    "version": 2
   },
   "file_extension": ".py",
   "mimetype": "text/x-python",
   "name": "python",
   "nbconvert_exporter": "python",
   "pygments_lexer": "ipython2",
   "version": "2.7.6"
  }
 },
 "nbformat": 4,
 "nbformat_minor": 1
}
